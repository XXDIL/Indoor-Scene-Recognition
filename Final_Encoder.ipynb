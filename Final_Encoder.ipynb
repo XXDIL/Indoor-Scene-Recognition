{
  "nbformat": 4,
  "nbformat_minor": 0,
  "metadata": {
    "accelerator": "GPU",
    "colab": {
      "name": "Final_Encoder.ipynb",
      "provenance": [],
      "collapsed_sections": [],
      "toc_visible": true,
      "machine_shape": "hm"
    },
    "kernelspec": {
      "display_name": "Python 3",
      "language": "python",
      "name": "python3"
    },
    "language_info": {
      "codemirror_mode": {
        "name": "ipython",
        "version": 3
      },
      "file_extension": ".py",
      "mimetype": "text/x-python",
      "name": "python",
      "nbconvert_exporter": "python",
      "pygments_lexer": "ipython3",
      "version": "3.8.5"
    }
  },
  "cells": [
    {
      "cell_type": "markdown",
      "metadata": {
        "id": "CYuxaNwyldMv"
      },
      "source": [
        "# MINI Project 2 - Hybrid Encoder Model\n",
        "\n",
        "## Group Members:\n",
        "\n",
        "```\n",
        "IIT2018079 - Kisalaya Kishore\n",
        "IIT2018176 - Milan Bhuva\n",
        "IIT2018178 - Manav Agrawal\n",
        "IIT2018179 - Mohammed Aadil\n",
        "IIT2018202 - Ankit Rauniyar\n",
        "```\n",
        "\n",
        "### INDEX : \n",
        "\n",
        "**2)  [Mount G-Drive](#scrollTo=Jm42Bj4po3Y-)**<br/>\n",
        "**2)  [VGG-16](#scrollTo=-R2hznFbcZwk)**<br/>\n",
        "**3)  [ResNet-50](#scrollTo=5WSDqIUicZwl)**<br/>\n",
        "**4)  [EffecientNet-V3](#scrollTo=NsSwcr7fcZwm)**<br/>\n",
        "**5)  [Fusion](#scrollTo=y-G7MA4OcZwn)**<br/>\n",
        "\n",
        "------\n",
        "\n",
        "### Header files"
      ]
    },
    {
      "cell_type": "code",
      "metadata": {
        "id": "a29pWDWFZ90n"
      },
      "source": [
        "# our utils file\n",
        "import utils\n",
        "from models import VGG, ResNet, EffNetB3\n",
        "\n",
        "# basic ML\n",
        "import os\n",
        "import numpy as np\n",
        "import matplotlib.pyplot as plt\n",
        "\n",
        "# connect to drive\n",
        "from google.colab import drive\n",
        "\n",
        "# Sklearn\n",
        "from sklearn.model_selection import train_test_split\n",
        "from sklearn.decomposition import PCA\n",
        "from sklearn import svm"
      ],
      "execution_count": null,
      "outputs": []
    },
    {
      "cell_type": "markdown",
      "metadata": {
        "id": "Jm42Bj4po3Y-"
      },
      "source": [
        "### Mounting G-Drive"
      ]
    },
    {
      "cell_type": "code",
      "metadata": {
        "colab": {
          "base_uri": "https://localhost:8080/"
        },
        "id": "XI63nr9QZ922",
        "outputId": "bf214582-617e-4aa9-fcf7-c6af9458bf6d"
      },
      "source": [
        "drive.mount('/content/gdrive')\n",
        "pkldest = '/content/gdrive/MyDrive/pkl_files/'"
      ],
      "execution_count": null,
      "outputs": [
        {
          "output_type": "stream",
          "text": [
            "Drive already mounted at /content/gdrive; to attempt to forcibly remount, call drive.mount(\"/content/gdrive\", force_remount=True).\n"
          ],
          "name": "stdout"
        }
      ]
    },
    {
      "cell_type": "markdown",
      "metadata": {
        "id": "hqmsE_e7cZwk"
      },
      "source": [
        "------\n",
        "\n",
        "# Model 2\n",
        "\n",
        "<img src=\"https://user-images.githubusercontent.com/66634743/114007474-70237e00-9872-11eb-9505-5ddb848e9d01.png\" height=400 width=800>\n",
        "\n",
        "### Loading the Labels"
      ]
    },
    {
      "cell_type": "code",
      "metadata": {
        "id": "_Bkyt6JmcZwk"
      },
      "source": [
        "y = utils.load_from_pkl(\"scenes.pkl\")"
      ],
      "execution_count": null,
      "outputs": []
    },
    {
      "cell_type": "markdown",
      "metadata": {
        "id": "-R2hznFbcZwk"
      },
      "source": [
        "------\n",
        "\n",
        "## VGG-16"
      ]
    },
    {
      "cell_type": "code",
      "metadata": {
        "id": "RBHmvM_ecZwk"
      },
      "source": [
        "vgg_features = utils.load_from_pkl(\"features/vgg16_features.pkl\")\n",
        "\n",
        "encoder_vgg = encoder(\"VGG\")\n",
        "encoder_vgg.encode(vgg_features)\n",
        "\n",
        "vggX = encoder_vgg.encodeTrainer()"
      ],
      "execution_count": null,
      "outputs": []
    },
    {
      "cell_type": "markdown",
      "metadata": {
        "id": "1nAL-0VIcZwl"
      },
      "source": [
        "### Classifier"
      ]
    },
    {
      "cell_type": "code",
      "metadata": {
        "id": "R_uC9hAecZwl"
      },
      "source": [
        "X_train, X_test, y_train, y_test = train_test_split(vggX, y, test_size=0.2, random_state=42)\n",
        "\n",
        "classifier = svm.SVC(kernel='rbf')\n",
        "\n",
        "classifier.fit(X_train, y_train)"
      ],
      "execution_count": null,
      "outputs": []
    },
    {
      "cell_type": "markdown",
      "metadata": {
        "id": "k0TJbOr7cZwl"
      },
      "source": [
        "### Temporary Results"
      ]
    },
    {
      "cell_type": "code",
      "metadata": {
        "id": "2a9TWyjPcZwl"
      },
      "source": [
        "pred = classifier.predict(X_test)\n",
        "\n",
        "acc = np.sum(1*(pred==y_test))/y_test.shape[0]\n",
        "print(\"vgg_16 + encoder+SVM  = \", acc*100)"
      ],
      "execution_count": null,
      "outputs": []
    },
    {
      "cell_type": "markdown",
      "metadata": {
        "id": "5WSDqIUicZwl"
      },
      "source": [
        "## ResNet50"
      ]
    },
    {
      "cell_type": "code",
      "metadata": {
        "scrolled": true,
        "id": "iyX9mCZEcZwl"
      },
      "source": [
        "resnetfeatures=utils.load_from_pkl(\"features/resnet_features.pkl\")\n",
        "\n",
        "encoder_resnet=encoder(\"Resnet\")\n",
        "encoder_resnet.encode(resnetfeatures)\n",
        "resnetX=encoder_resnet.encodeTrainer()"
      ],
      "execution_count": null,
      "outputs": []
    },
    {
      "cell_type": "markdown",
      "metadata": {
        "id": "u9vUpaNmcZwm"
      },
      "source": [
        "### Classifier"
      ]
    },
    {
      "cell_type": "code",
      "metadata": {
        "id": "cW3IJuXhcZwm"
      },
      "source": [
        "X_train, X_test, y_train, y_test = train_test_split(resnetX,y, test_size=0.2, random_state=42)\n",
        "\n",
        "classifier = svm.SVC(kernel='rbf')\n",
        "\n",
        "classifier.fit(X_train, y_train)"
      ],
      "execution_count": null,
      "outputs": []
    },
    {
      "cell_type": "markdown",
      "metadata": {
        "id": "rPO6VDjDcZwm"
      },
      "source": [
        "### Temporary Results"
      ]
    },
    {
      "cell_type": "code",
      "metadata": {
        "id": "fxL-kMvYcZwm"
      },
      "source": [
        "pred = classifier.predict(X_test)\n",
        "\n",
        "acc = np.sum(1*(pred==y_test))/y_test.shape[0]\n",
        "print(\"Resnet50 + encoder + SVM  = \", acc*100)"
      ],
      "execution_count": null,
      "outputs": []
    },
    {
      "cell_type": "markdown",
      "metadata": {
        "id": "NsSwcr7fcZwm"
      },
      "source": [
        "## EfficientNetB3"
      ]
    },
    {
      "cell_type": "code",
      "metadata": {
        "id": "qhKueLcWcZwm"
      },
      "source": [
        "effnetfeatures=utils.load_from_pkl(\"features/effnetB3_features.pkl\")\n",
        "\n",
        "encoder_effnet=encoder(\"effnet\")\n",
        "encoder_effnet.encode(effnetfeatures)\n",
        "effnetX=encoder_effnet.encodeTrainer()"
      ],
      "execution_count": null,
      "outputs": []
    },
    {
      "cell_type": "markdown",
      "metadata": {
        "id": "8yA3bJB_cZwn"
      },
      "source": [
        "### Classifier"
      ]
    },
    {
      "cell_type": "code",
      "metadata": {
        "id": "GZ3lF3VIcZwn"
      },
      "source": [
        "X_train, X_test, y_train, y_test = train_test_split(effnetX,y, test_size=0.2, random_state=42)\n",
        "\n",
        "classifier = svm.SVC(kernel='rbf')\n",
        "\n",
        "classifier.fit(X_train, y_train)"
      ],
      "execution_count": null,
      "outputs": []
    },
    {
      "cell_type": "markdown",
      "metadata": {
        "id": "ZlZVJ5XdcZwn"
      },
      "source": [
        "### Temporary Results"
      ]
    },
    {
      "cell_type": "code",
      "metadata": {
        "id": "Qk42laqycZwn"
      },
      "source": [
        "pred = classifier.predict(X_test)\n",
        "\n",
        "acc = np.sum(pred==y_test)/y_test.shape[0]\n",
        "print(\"EffnetB3 + encoder + SVM  = \", acc*100)"
      ],
      "execution_count": null,
      "outputs": []
    },
    {
      "cell_type": "markdown",
      "metadata": {
        "id": "y-G7MA4OcZwn"
      },
      "source": [
        "## Fusing the predictions of the 3 models"
      ]
    },
    {
      "cell_type": "code",
      "metadata": {
        "id": "mTIfJpeLcZwo"
      },
      "source": [
        "Xstacked=np.hstack((effnetX, vggX, resnetX))\n",
        "\n",
        "X_train, X_test, y_train, y_test = train_test_split(Xstacked, y, test_size=0.2, random_state=42)"
      ],
      "execution_count": null,
      "outputs": []
    },
    {
      "cell_type": "markdown",
      "metadata": {
        "id": "fmbqzzJ0cZwo"
      },
      "source": [
        "### Final Classifier"
      ]
    },
    {
      "cell_type": "code",
      "metadata": {
        "id": "CHngcsy-cZwo"
      },
      "source": [
        "classifier = svm.SVC(kernel='rbf')\n",
        "classifier.fit(X_train,y_train)\n",
        "ypred = classifier.predict(X_test)"
      ],
      "execution_count": null,
      "outputs": []
    },
    {
      "cell_type": "markdown",
      "metadata": {
        "id": "CFgvS4rvcZwo"
      },
      "source": [
        "### Final Model 2 Results"
      ]
    },
    {
      "cell_type": "code",
      "metadata": {
        "id": "B7-LzXTKcZwo"
      },
      "source": [
        "acc = (np.sum(ypred==y_test))/y_test.shape[0]\n",
        "\n",
        "print(\"Acc of Model 2 : \", acc)"
      ],
      "execution_count": null,
      "outputs": []
    },
    {
      "cell_type": "markdown",
      "metadata": {
        "id": "VD4iQk6XcZwo"
      },
      "source": [
        "### Confusion Matrix"
      ]
    },
    {
      "cell_type": "code",
      "metadata": {
        "id": "zJHukBpPcZwp"
      },
      "source": [
        "cm = confusion_matrix(y_test,ypred)\n",
        "sns.heatmap(cm)"
      ],
      "execution_count": null,
      "outputs": []
    }
  ]
}