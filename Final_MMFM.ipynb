{
  "nbformat": 4,
  "nbformat_minor": 0,
  "metadata": {
    "accelerator": "GPU",
    "colab": {
      "name": "Final.ipynb",
      "provenance": [],
      "collapsed_sections": [],
      "toc_visible": true,
      "machine_shape": "hm"
    },
    "kernelspec": {
      "display_name": "Python 3",
      "name": "python3"
    }
  },
  "cells": [
    {
      "cell_type": "markdown",
      "metadata": {
        "id": "CYuxaNwyldMv"
      },
      "source": [
        "# Multi-Modality Fusion Model\n",
        "\n",
        "\n",
        "### INDEX:\n",
        "\n",
        "**1)  [Mount G-Drive](#scrollTo=Jm42Bj4po3Y-)**<br/>\n",
        "**2)  [VGG-16](#scrollTo=kOje8AUqxGz9)**<br/>\n",
        "**3)  [ResNet-50](#scrollTo=yoaXkLst0vxa)**<br/>\n",
        "**4)  [EffecientNet-V3](#scrollTo=9CGehUvs0u_p)**<br/>\n",
        "**5)  [Fusion](#scrollTo=Qfl5gZAn23fO)**<br/>\n",
        "\n",
        "\n",
        "------\n",
        "\n",
        "### Header files"
      ]
    },
    {
      "cell_type": "code",
      "metadata": {
        "id": "a29pWDWFZ90n"
      },
      "source": [
        "# our utils file\n",
        "import utils\n",
        "from models import VGG, ResNet, EffNetB3\n",
        "\n",
        "# basic ML\n",
        "import os\n",
        "import numpy as np\n",
        "import seaborn as sns\n",
        "import matplotlib.pyplot as plt\n",
        "import pickle\n",
        "\n",
        "# connect to drive\n",
        "from google.colab import drive\n",
        "\n",
        "# Sklearn\n",
        "from sklearn.model_selection import train_test_split\n",
        "from sklearn.decomposition import PCA\n",
        "from sklearn import svm\n",
        "from sklearn.metrics import confusion_matrix, classification_report"
      ],
      "execution_count": 25,
      "outputs": []
    },
    {
      "cell_type": "markdown",
      "metadata": {
        "id": "Jm42Bj4po3Y-"
      },
      "source": [
        "### Mounting G-Drive"
      ]
    },
    {
      "cell_type": "code",
      "metadata": {
        "colab": {
          "base_uri": "https://localhost:8080/"
        },
        "id": "XI63nr9QZ922",
        "outputId": "7eb109be-15b0-4c70-ea22-a698704a4f4c"
      },
      "source": [
        "drive.mount('/content/gdrive')\n",
        "pkldest = '/content/gdrive/MyDrive/pkl_files/'\n",
        "dataset = '/content/gdrive/MyDrive/Minidata'"
      ],
      "execution_count": 2,
      "outputs": [
        {
          "output_type": "stream",
          "text": [
            "Drive already mounted at /content/gdrive; to attempt to forcibly remount, call drive.mount(\"/content/gdrive\", force_remount=True).\n"
          ],
          "name": "stdout"
        }
      ]
    },
    {
      "cell_type": "markdown",
      "metadata": {
        "id": "kOje8AUqxGz9"
      },
      "source": [
        "------\n",
        "## VGG 16\n",
        "\n",
        "<img src=\"https://user-images.githubusercontent.com/66634743/113575262-a8d31580-962e-11eb-840a-83f18c2029e3.png\" height=150 width=600>\n",
        "\n",
        "\n",
        "### Loading data from pkl"
      ]
    },
    {
      "cell_type": "code",
      "metadata": {
        "colab": {
          "base_uri": "https://localhost:8080/"
        },
        "id": "k62IXzWg2I61",
        "outputId": "0d57dced-0385-44b3-ea34-e6e0b5db6448"
      },
      "source": [
        "images = utils.load_from_pkl(pkldest+\"vgg16_images.pkl\")\n",
        "scenes = utils.load_from_pkl(pkldest+\"scenes.pkl\")\n",
        "\n",
        "print(\"Shape of Images = \", images.shape)\n",
        "print(\"Shape of Scenes = \", scenes.shape)"
      ],
      "execution_count": 4,
      "outputs": [
        {
          "output_type": "stream",
          "text": [
            "Shape of Images =  (5059, 224, 224, 3)\n",
            "Shape of Scenes =  (5059,)\n"
          ],
          "name": "stdout"
        }
      ]
    },
    {
      "cell_type": "markdown",
      "metadata": {
        "id": "ykXOCUwL2JkD"
      },
      "source": [
        "### Building the model"
      ]
    },
    {
      "cell_type": "code",
      "metadata": {
        "colab": {
          "base_uri": "https://localhost:8080/"
        },
        "id": "8S3jKGOw5FKB",
        "outputId": "ed4ce69c-db06-48a9-d94a-f2e4055c34f1"
      },
      "source": [
        "vgg = VGG()\n",
        "vgg.freeze()\n",
        "\n",
        "vgg_features = vgg.predict(images=images)"
      ],
      "execution_count": 5,
      "outputs": [
        {
          "output_type": "stream",
          "text": [
            "159/159 [==============================] - 33s 128ms/step\n"
          ],
          "name": "stdout"
        }
      ]
    },
    {
      "cell_type": "markdown",
      "metadata": {
        "id": "ZHjHhMt4z9XZ"
      },
      "source": [
        "### Dumping data into .pkl files"
      ]
    },
    {
      "cell_type": "code",
      "metadata": {
        "id": "x98eoov30Rkq"
      },
      "source": [
        "if(\"vgg16_features.pkl\" not in os.listdir(pkldest)):\n",
        "    utils.dump_into_pkl(vgg_features, pkldest+\"vgg16_features.pkl\")"
      ],
      "execution_count": 6,
      "outputs": []
    },
    {
      "cell_type": "markdown",
      "metadata": {
        "id": "MVHMzi0WJduu"
      },
      "source": [
        "### PCA (k = 512)"
      ]
    },
    {
      "cell_type": "code",
      "metadata": {
        "colab": {
          "base_uri": "https://localhost:8080/"
        },
        "id": "QpUzqq-7Jdxp",
        "outputId": "54d1d2e2-1099-49db-ce57-ac3552e67c91"
      },
      "source": [
        "scenes = utils.prep_labels(scenes)\n",
        "k = 512\n",
        "\n",
        "pca = PCA(n_components=k)\n",
        "\n",
        "pca.fit(vgg_features)\n",
        "\n",
        "# dump PCA model\n",
        "pickle.dump(pca, open(pkldest+'vgg_pca_model.pkl', 'wb'))\n",
        "\n",
        "PCA_features = pca.transform(vgg_features)\n",
        "\n",
        "print(\"Shape after PCA \", PCA_features.shape)"
      ],
      "execution_count": 39,
      "outputs": [
        {
          "output_type": "stream",
          "text": [
            "Shape after PCA  (5059, 512)\n"
          ],
          "name": "stdout"
        }
      ]
    },
    {
      "cell_type": "markdown",
      "metadata": {
        "id": "cx8Ugm__Hz4s"
      },
      "source": [
        "### Classifier"
      ]
    },
    {
      "cell_type": "code",
      "metadata": {
        "id": "48jZ6CkmHz8L",
        "colab": {
          "base_uri": "https://localhost:8080/"
        },
        "outputId": "27ba0c24-efb9-4911-985e-5c935e1498ef"
      },
      "source": [
        "X_train, X_test, y_train, y_test = train_test_split(PCA_features, scenes, test_size=0.2, random_state=42)\n",
        "\n",
        "classifier = svm.SVC(kernel='rbf', probability=True)\n",
        "\n",
        "classifier.fit(X_train, y_train)\n",
        "\n",
        "# save model for later\n",
        "pickle.dump(classifier, open(pkldest+'vgg_svm_model.pkl', 'wb'))"
      ],
      "execution_count": 40,
      "outputs": [
        {
          "output_type": "execute_result",
          "data": {
            "text/plain": [
              "SVC(probability=True)"
            ]
          },
          "metadata": {
            "tags": []
          },
          "execution_count": 40
        }
      ]
    },
    {
      "cell_type": "markdown",
      "metadata": {
        "id": "HOSGgIOrH0Xm"
      },
      "source": [
        "### Temporary Results"
      ]
    },
    {
      "cell_type": "code",
      "metadata": {
        "colab": {
          "base_uri": "https://localhost:8080/"
        },
        "id": "PRmlcAG3H0an",
        "outputId": "fa81fef0-8b94-4d7b-b891-cea50f568547"
      },
      "source": [
        "pred = classifier.predict(X_test)\n",
        "\n",
        "acc = np.sum(1*(pred==y_test))/y_test.shape[0]\n",
        "print(\"VGG + SVM  = \", acc*100)"
      ],
      "execution_count": 41,
      "outputs": [
        {
          "output_type": "stream",
          "text": [
            "VGG + SVM  =  84.48616600790514\n"
          ],
          "name": "stdout"
        }
      ]
    },
    {
      "cell_type": "markdown",
      "metadata": {
        "id": "0yjebCksQt1c"
      },
      "source": [
        "### Prababilities of classes"
      ]
    },
    {
      "cell_type": "code",
      "metadata": {
        "colab": {
          "base_uri": "https://localhost:8080/"
        },
        "id": "FthyxE32Qt_v",
        "outputId": "daeaa636-b1f3-47e6-baec-aadf30fb930d"
      },
      "source": [
        "vgg16_probs = classifier.predict_proba(X_test)\n",
        "\n",
        "print(vgg16_probs.shape)"
      ],
      "execution_count": 42,
      "outputs": [
        {
          "output_type": "stream",
          "text": [
            "(1012, 10)\n"
          ],
          "name": "stdout"
        }
      ]
    },
    {
      "cell_type": "markdown",
      "metadata": {
        "id": "4vKImrQWBOlU"
      },
      "source": [
        "### Confusion Matrix"
      ]
    },
    {
      "cell_type": "code",
      "metadata": {
        "colab": {
          "base_uri": "https://localhost:8080/",
          "height": 609
        },
        "id": "PHdTu-Z7BOYX",
        "outputId": "be6359ae-96f1-447e-f918-457ad82eaa0e"
      },
      "source": [
        "plt.figure(figsize=(12,10))\n",
        "cm = confusion_matrix(y_test, pred)\n",
        "sns.heatmap(cm, annot=True)\n",
        "plt.plot()"
      ],
      "execution_count": 43,
      "outputs": [
        {
          "output_type": "execute_result",
          "data": {
            "text/plain": [
              "[]"
            ]
          },
          "metadata": {
            "tags": []
          },
          "execution_count": 43
        },
        {
          "output_type": "display_data",
          "data": {
            "image/png": "[encoded data removed]",
            "text/plain": [
              "<Figure size 864x720 with 2 Axes>"
            ]
          },
          "metadata": {
            "tags": [],
            "needs_background": "light"
          }
        }
      ]
    },
    {
      "cell_type": "markdown",
      "metadata": {
        "id": "jhILF-IuHX82"
      },
      "source": [
        "### Various Result"
      ]
    },
    {
      "cell_type": "code",
      "metadata": {
        "colab": {
          "base_uri": "https://localhost:8080/"
        },
        "id": "UIbL9bkZHXz4",
        "outputId": "933012b0-07b8-44f9-d7fb-9b958026df83"
      },
      "source": [
        "matrix = classification_report(y_test, pred) # labels=[1,0]\n",
        "print('VGG16 Report : \\n', matrix)"
      ],
      "execution_count": 44,
      "outputs": [
        {
          "output_type": "stream",
          "text": [
            "VGG16 Report : \n",
            "               precision    recall  f1-score   support\n",
            "\n",
            "           0       0.89      0.88      0.88       124\n",
            "           1       0.89      0.84      0.87        90\n",
            "           2       0.89      0.69      0.78        45\n",
            "           3       0.84      0.77      0.81       123\n",
            "           4       0.88      0.90      0.89        77\n",
            "           5       0.93      0.94      0.93        93\n",
            "           6       0.86      0.88      0.87       162\n",
            "           7       0.72      0.82      0.77       144\n",
            "           8       0.79      0.77      0.78        65\n",
            "           9       0.85      0.87      0.86        89\n",
            "\n",
            "    accuracy                           0.84      1012\n",
            "   macro avg       0.85      0.84      0.84      1012\n",
            "weighted avg       0.85      0.84      0.84      1012\n",
            "\n"
          ],
          "name": "stdout"
        }
      ]
    },
    {
      "cell_type": "markdown",
      "metadata": {
        "id": "yoaXkLst0vxa"
      },
      "source": [
        "------\n",
        "## ResNet50\n",
        "\n",
        "<img src=\"https://user-images.githubusercontent.com/66634743/113575413-dfa92b80-962e-11eb-902c-380e39b91234.png\" height=150 width=600>\n",
        "\n",
        "### Loading data from pkl\n",
        "\n"
      ]
    },
    {
      "cell_type": "code",
      "metadata": {
        "colab": {
          "base_uri": "https://localhost:8080/"
        },
        "id": "-8SKmaNRLM4b",
        "outputId": "3c21e603-7129-471f-9a91-f69bf738f706"
      },
      "source": [
        "images = utils.load_from_pkl(pkldest+\"resnet_images.pkl\")\n",
        "scenes = utils.load_from_pkl(pkldest+\"scenes.pkl\")\n",
        "\n",
        "print(\"Shape of Images = \", images.shape)\n",
        "print(\"Shape of Scenes = \", scenes.shape)"
      ],
      "execution_count": 3,
      "outputs": [
        {
          "output_type": "stream",
          "text": [
            "Shape of Images =  (5059, 512, 512, 3)\n",
            "Shape of Scenes =  (5059,)\n"
          ],
          "name": "stdout"
        }
      ]
    },
    {
      "cell_type": "markdown",
      "metadata": {
        "id": "EiILcmfRLNAg"
      },
      "source": [
        "### Building the model"
      ]
    },
    {
      "cell_type": "code",
      "metadata": {
        "colab": {
          "base_uri": "https://localhost:8080/"
        },
        "id": "NfKKm_VW0vqI",
        "outputId": "4e0f6115-eb75-4b60-b052-8c8620d9360f"
      },
      "source": [
        "resnet = ResNet()\n",
        "resnet.freeze()\n",
        "\n",
        "resnet_features = resnet.predict(images=images)"
      ],
      "execution_count": 4,
      "outputs": [
        {
          "output_type": "stream",
          "text": [
            "Downloading data from https://storage.googleapis.com/tensorflow/keras-applications/resnet/resnet50_weights_tf_dim_ordering_tf_kernels_notop.h5\n",
            "94773248/94765736 [==============================] - 1s 0us/step\n",
            "159/159 [==============================] - 91s 513ms/step\n"
          ],
          "name": "stdout"
        }
      ]
    },
    {
      "cell_type": "markdown",
      "metadata": {
        "id": "DNi5kCL_z9gx"
      },
      "source": [
        "### Dumping data into .pkl files"
      ]
    },
    {
      "cell_type": "code",
      "metadata": {
        "id": "ApwjV_wqLKk8"
      },
      "source": [
        "if(\"resnet_features.pkl\" not in os.listdir(pkldest)):\n",
        "    utils.dump_into_pkl(resnet_features, pkldest+\"resnet_features.pkl\")"
      ],
      "execution_count": 5,
      "outputs": []
    },
    {
      "cell_type": "markdown",
      "metadata": {
        "id": "9ivcNh1qL5gO"
      },
      "source": [
        "### PCA (k = 128)"
      ]
    },
    {
      "cell_type": "code",
      "metadata": {
        "colab": {
          "base_uri": "https://localhost:8080/"
        },
        "id": "mQDg0HgyL5gt",
        "outputId": "f27b0f0e-9fbe-4522-b285-95f57aec0b8c"
      },
      "source": [
        "scenes = utils.prep_labels(scenes)\n",
        "k = 128\n",
        "\n",
        "pca = PCA(n_components=k)\n",
        "\n",
        "pca.fit(resnet_features)\n",
        "\n",
        "# dump PCA model\n",
        "pickle.dump(pca, open(pkldest+'resnet_pca_model.pkl', 'wb'))\n",
        "\n",
        "PCA_features = pca.transform(resnet_features)\n",
        "\n",
        "print(\"Shape after PCA \", PCA_features.shape)"
      ],
      "execution_count": 20,
      "outputs": [
        {
          "output_type": "stream",
          "text": [
            "Shape after PCA  (5059, 128)\n"
          ],
          "name": "stdout"
        }
      ]
    },
    {
      "cell_type": "markdown",
      "metadata": {
        "id": "gUMAvuV8L5gv"
      },
      "source": [
        "### Classifier"
      ]
    },
    {
      "cell_type": "code",
      "metadata": {
        "colab": {
          "base_uri": "https://localhost:8080/"
        },
        "id": "z6F3impkL5gw",
        "outputId": "05764c61-2066-473b-d2d6-51bfb169190c"
      },
      "source": [
        "X_train, X_test, y_train, y_test = train_test_split(PCA_features, scenes, test_size=0.2, random_state=42)\n",
        "\n",
        "classifier = svm.SVC(kernel='rbf', probability=True)\n",
        "\n",
        "classifier.fit(X_train, y_train)\n",
        "\n",
        "# save model for later\n",
        "pickle.dump(classifier, open(pkldest+'resnet_svm_model.pkl', 'wb'))"
      ],
      "execution_count": 21,
      "outputs": [
        {
          "output_type": "execute_result",
          "data": {
            "text/plain": [
              "SVC(probability=True)"
            ]
          },
          "metadata": {
            "tags": []
          },
          "execution_count": 21
        }
      ]
    },
    {
      "cell_type": "markdown",
      "metadata": {
        "id": "0JgRsM0JL5gw"
      },
      "source": [
        "### Temporary Results"
      ]
    },
    {
      "cell_type": "code",
      "metadata": {
        "colab": {
          "base_uri": "https://localhost:8080/"
        },
        "id": "V2K5ABIHL5gw",
        "outputId": "3a44910d-8b05-4912-a876-3c5a1e814b59"
      },
      "source": [
        "pred = classifier.predict(X_test)\n",
        "\n",
        "acc = np.sum(1*(pred==y_test))/y_test.shape[0]\n",
        "print(\"ResNet50 + SVM  = \", acc*100)"
      ],
      "execution_count": 22,
      "outputs": [
        {
          "output_type": "stream",
          "text": [
            "ResNet50 + SVM  =  90.21739130434783\n"
          ],
          "name": "stdout"
        }
      ]
    },
    {
      "cell_type": "markdown",
      "metadata": {
        "id": "8qXvTfVRRwwp"
      },
      "source": [
        "### Prababilities of classes"
      ]
    },
    {
      "cell_type": "code",
      "metadata": {
        "colab": {
          "base_uri": "https://localhost:8080/"
        },
        "id": "RlcpAucyRww1",
        "outputId": "5921a959-fc58-4854-e2a7-a76f99a13396"
      },
      "source": [
        "resnet_probs = classifier.predict_proba(X_test)\n",
        "\n",
        "print(resnet_probs.shape)"
      ],
      "execution_count": 23,
      "outputs": [
        {
          "output_type": "stream",
          "text": [
            "(1012, 10)\n"
          ],
          "name": "stdout"
        }
      ]
    },
    {
      "cell_type": "markdown",
      "metadata": {
        "id": "xySmS9CFDHua"
      },
      "source": [
        "### Confusion Matrix"
      ]
    },
    {
      "cell_type": "code",
      "metadata": {
        "colab": {
          "base_uri": "https://localhost:8080/",
          "height": 609
        },
        "id": "451V7BdhDHmm",
        "outputId": "f08ac547-ca36-4000-dcd2-240832651c6b"
      },
      "source": [
        "plt.figure(figsize=(12,10))\n",
        "cm = confusion_matrix(y_test, pred)\n",
        "sns.heatmap(cm, annot=True)\n",
        "plt.plot()"
      ],
      "execution_count": 24,
      "outputs": [
        {
          "output_type": "execute_result",
          "data": {
            "text/plain": [
              "[]"
            ]
          },
          "metadata": {
            "tags": []
          },
          "execution_count": 24
        },
        {
          "output_type": "display_data",
          "data": {
            "image/png": "[encoded data removed]",
            "text/plain": [
              "<Figure size 864x720 with 2 Axes>"
            ]
          },
          "metadata": {
            "tags": [],
            "needs_background": "light"
          }
        }
      ]
    },
    {
      "cell_type": "markdown",
      "metadata": {
        "id": "IZChsdGXHz3Z"
      },
      "source": [
        "### Various Results"
      ]
    },
    {
      "cell_type": "code",
      "metadata": {
        "colab": {
          "base_uri": "https://localhost:8080/"
        },
        "id": "dK-xqWWcHzwV",
        "outputId": "774532cd-27d2-4531-a49a-94329fb9e86b"
      },
      "source": [
        "matrix = classification_report(y_test, pred)\n",
        "print('ResNet50 Report : \\n', matrix)"
      ],
      "execution_count": 26,
      "outputs": [
        {
          "output_type": "stream",
          "text": [
            "ResNet50 Report : \n",
            "               precision    recall  f1-score   support\n",
            "\n",
            "           0       0.95      0.94      0.95       124\n",
            "           1       0.94      0.90      0.92        90\n",
            "           2       0.97      0.84      0.90        45\n",
            "           3       0.88      0.81      0.84       123\n",
            "           4       0.92      0.90      0.91        77\n",
            "           5       0.94      0.98      0.96        93\n",
            "           6       0.94      0.91      0.92       162\n",
            "           7       0.77      0.90      0.83       144\n",
            "           8       0.94      0.89      0.91        65\n",
            "           9       0.91      0.91      0.91        89\n",
            "\n",
            "    accuracy                           0.90      1012\n",
            "   macro avg       0.92      0.90      0.91      1012\n",
            "weighted avg       0.91      0.90      0.90      1012\n",
            "\n"
          ],
          "name": "stdout"
        }
      ]
    },
    {
      "cell_type": "markdown",
      "metadata": {
        "id": "9CGehUvs0u_p"
      },
      "source": [
        "------\n",
        "## EfficientNetB3\n",
        "\n",
        "<img src=\"https://user-images.githubusercontent.com/66634743/113626999-ec03a780-9673-11eb-9779-21d376f419d2.png\" height=150 width=600>\n",
        "\n",
        "### Loading data from pkl\n"
      ]
    },
    {
      "cell_type": "code",
      "metadata": {
        "colab": {
          "base_uri": "https://localhost:8080/"
        },
        "id": "d5dc2TV615QE",
        "outputId": "35b04909-cf30-4c95-ed47-537069c150dc"
      },
      "source": [
        "images = utils.load_from_pkl(pkldest+\"Effnetb3_images.pkl\")\n",
        "scenes = utils.load_from_pkl(pkldest+\"scenes.pkl\")\n",
        "\n",
        "print(\"Shape of Images = \", images.shape)\n",
        "print(\"Shape of Scenes = \", scenes.shape)"
      ],
      "execution_count": 3,
      "outputs": [
        {
          "output_type": "stream",
          "text": [
            "Shape of Images =  (5059, 300, 300, 3)\n",
            "Shape of Scenes =  (5059,)\n"
          ],
          "name": "stdout"
        }
      ]
    },
    {
      "cell_type": "markdown",
      "metadata": {
        "id": "AO_o5kMV15em"
      },
      "source": [
        "### Building the model"
      ]
    },
    {
      "cell_type": "code",
      "metadata": {
        "colab": {
          "base_uri": "https://localhost:8080/"
        },
        "id": "RZgw4Ny40ucU",
        "outputId": "2c64eef3-3f7c-47d3-cfde-efd2b98bfa87"
      },
      "source": [
        "effnetB3 = EffNetB3()\n",
        "\n",
        "effnetB3.freeze()\n",
        "\n",
        "effnetB3_features = effnetB3.predict(images=images)"
      ],
      "execution_count": 4,
      "outputs": [
        {
          "output_type": "stream",
          "text": [
            "Downloading data from https://storage.googleapis.com/keras-applications/efficientnetb3_notop.h5\n",
            "43941888/43941136 [==============================] - 0s 0us/step\n",
            "159/159 [==============================] - 40s 204ms/step\n"
          ],
          "name": "stdout"
        }
      ]
    },
    {
      "cell_type": "markdown",
      "metadata": {
        "id": "128nA6Wk1GQe"
      },
      "source": [
        "### Dumping data into .pkl files"
      ]
    },
    {
      "cell_type": "code",
      "metadata": {
        "id": "QU2TuUPR1GIR"
      },
      "source": [
        "if(\"effnetB3_features.pkl\" not in os.listdir(pkldest)):\n",
        "    utils.dump_into_pkl(effnetB3_features, pkldest+\"effnetB3_features.pkl\")"
      ],
      "execution_count": 5,
      "outputs": []
    },
    {
      "cell_type": "markdown",
      "metadata": {
        "id": "-sRQYYRMPE2f"
      },
      "source": [
        "### PCA (k = 128)"
      ]
    },
    {
      "cell_type": "code",
      "metadata": {
        "colab": {
          "base_uri": "https://localhost:8080/"
        },
        "id": "L3Iy_gB7PE2t",
        "outputId": "ceccc3ad-c3d3-4080-de46-250e3ace5fdc"
      },
      "source": [
        "scenes = utils.prep_labels(scenes)\n",
        "k = 128\n",
        "\n",
        "pca = PCA(n_components=k)\n",
        "\n",
        "pca.fit(effnetB3_features)\n",
        "\n",
        "# dump PCA model\n",
        "pickle.dump(pca, open(pkldest+'effnet_pca_model.pkl', 'wb'))\n",
        "\n",
        "PCA_features = pca.transform(effnetB3_features)\n",
        "\n",
        "print(\"Shape after PCA \", PCA_features.shape)"
      ],
      "execution_count": 32,
      "outputs": [
        {
          "output_type": "stream",
          "text": [
            "Shape after PCA  (5059, 128)\n"
          ],
          "name": "stdout"
        }
      ]
    },
    {
      "cell_type": "markdown",
      "metadata": {
        "id": "ikTowEJNPE2t"
      },
      "source": [
        "### Classifier"
      ]
    },
    {
      "cell_type": "code",
      "metadata": {
        "colab": {
          "base_uri": "https://localhost:8080/"
        },
        "id": "hufIOi8XPE2u",
        "outputId": "c5e734de-83fb-43a9-deab-a00ad50c1b0a"
      },
      "source": [
        "X_train, X_test, y_train, y_test = train_test_split(PCA_features, scenes, test_size=0.2, random_state=42)\n",
        "\n",
        "classifier = svm.SVC(kernel='rbf', probability=True)\n",
        "\n",
        "classifier.fit(X_train, y_train)\n",
        "\n",
        "# save model for later\n",
        "pickle.dump(classifier, open(pkldest+'effnet_svm_model.pkl', 'wb'))"
      ],
      "execution_count": 33,
      "outputs": [
        {
          "output_type": "execute_result",
          "data": {
            "text/plain": [
              "SVC(probability=True)"
            ]
          },
          "metadata": {
            "tags": []
          },
          "execution_count": 33
        }
      ]
    },
    {
      "cell_type": "markdown",
      "metadata": {
        "id": "sVAQDQ9MPE2u"
      },
      "source": [
        "### Temporary Results"
      ]
    },
    {
      "cell_type": "code",
      "metadata": {
        "colab": {
          "base_uri": "https://localhost:8080/"
        },
        "id": "lP86C5_hPE2u",
        "outputId": "28d69374-cf61-4b76-f17b-67256839f0be"
      },
      "source": [
        "pred = classifier.predict(X_test)\n",
        "\n",
        "acc = np.sum(1*(pred==y_test))/y_test.shape[0]\n",
        "print(\"EffNetb3 + SVM  = \", acc*100)"
      ],
      "execution_count": 34,
      "outputs": [
        {
          "output_type": "stream",
          "text": [
            "EffNetb3 + SVM  =  90.11857707509881\n"
          ],
          "name": "stdout"
        }
      ]
    },
    {
      "cell_type": "markdown",
      "metadata": {
        "id": "dV15mwFZSBCj"
      },
      "source": [
        "### Prababilities of classes"
      ]
    },
    {
      "cell_type": "code",
      "metadata": {
        "colab": {
          "base_uri": "https://localhost:8080/"
        },
        "id": "1I0_G6CDSBCo",
        "outputId": "10cd7474-4460-4e25-bd39-c8cc913fd196"
      },
      "source": [
        "effnet_probs = classifier.predict_proba(X_test)\n",
        "\n",
        "print(effnet_probs.shape)"
      ],
      "execution_count": 35,
      "outputs": [
        {
          "output_type": "stream",
          "text": [
            "(1012, 10)\n"
          ],
          "name": "stdout"
        }
      ]
    },
    {
      "cell_type": "markdown",
      "metadata": {
        "id": "TbFyQH1JD9fR"
      },
      "source": [
        "### Confusion Matrix"
      ]
    },
    {
      "cell_type": "code",
      "metadata": {
        "colab": {
          "base_uri": "https://localhost:8080/",
          "height": 609
        },
        "id": "m5SRCXigD9UA",
        "outputId": "08fd738e-121f-4469-d626-585b7277e1c5"
      },
      "source": [
        "plt.figure(figsize=(12,10))\n",
        "cm = confusion_matrix(y_test, pred)\n",
        "sns.heatmap(cm, annot=True)\n",
        "plt.plot()"
      ],
      "execution_count": 36,
      "outputs": [
        {
          "output_type": "execute_result",
          "data": {
            "text/plain": [
              "[]"
            ]
          },
          "metadata": {
            "tags": []
          },
          "execution_count": 36
        },
        {
          "output_type": "display_data",
          "data": {
            "image/png": "[encoded data removed]",
            "text/plain": [
              "<Figure size 864x720 with 2 Axes>"
            ]
          },
          "metadata": {
            "tags": [],
            "needs_background": "light"
          }
        }
      ]
    },
    {
      "cell_type": "markdown",
      "metadata": {
        "id": "HBye47FEIJZc"
      },
      "source": [
        "### Various Results"
      ]
    },
    {
      "cell_type": "code",
      "metadata": {
        "colab": {
          "base_uri": "https://localhost:8080/"
        },
        "id": "7FPXNjPAIJSW",
        "outputId": "33445ed5-7d3a-4369-f6e2-12968e127d72"
      },
      "source": [
        "matrix = classification_report(y_test, pred)\n",
        "print('EffNetB3 Report : \\n', matrix)"
      ],
      "execution_count": 37,
      "outputs": [
        {
          "output_type": "stream",
          "text": [
            "EffNetB3 Report : \n",
            "               precision    recall  f1-score   support\n",
            "\n",
            "           0       0.94      0.94      0.94       124\n",
            "           1       0.94      0.86      0.90        90\n",
            "           2       0.85      0.91      0.88        45\n",
            "           3       0.88      0.81      0.85       123\n",
            "           4       0.95      0.94      0.94        77\n",
            "           5       0.91      0.98      0.94        93\n",
            "           6       0.94      0.93      0.93       162\n",
            "           7       0.80      0.88      0.83       144\n",
            "           8       0.89      0.88      0.88        65\n",
            "           9       0.92      0.92      0.92        89\n",
            "\n",
            "    accuracy                           0.90      1012\n",
            "   macro avg       0.90      0.90      0.90      1012\n",
            "weighted avg       0.90      0.90      0.90      1012\n",
            "\n"
          ],
          "name": "stdout"
        }
      ]
    },
    {
      "cell_type": "markdown",
      "metadata": {
        "id": "Qfl5gZAn23fO"
      },
      "source": [
        "------\n",
        "\n",
        "## Fusion\n",
        "\n",
        "<img src=\"https://user-images.githubusercontent.com/66634743/113685129-f99e4900-96d6-11eb-985b-e477cdc3074b.png\" height=400 width=800>\n",
        "\n",
        "### Fusing the predictions of the 3 models"
      ]
    },
    {
      "cell_type": "code",
      "metadata": {
        "id": "qakrfVlB2-xw"
      },
      "source": [
        "merged = (effnet_probs + resnet_probs + vgg16_probs)/3\n",
        "\n",
        "merged_preds = np.argmax(merged, axis=1)"
      ],
      "execution_count": 45,
      "outputs": []
    },
    {
      "cell_type": "markdown",
      "metadata": {
        "id": "lcQOEIbEZHlI"
      },
      "source": [
        "### Final Multi-Modality Model Result"
      ]
    },
    {
      "cell_type": "code",
      "metadata": {
        "colab": {
          "base_uri": "https://localhost:8080/"
        },
        "id": "y7cG1tkqUg20",
        "outputId": "39b34a4f-66a5-418d-be72-eb9163593852"
      },
      "source": [
        "final_acc = np.sum(y_test == merged_preds)/merged_preds.shape[0]\n",
        "\n",
        "print(\"Multi-Modality Model : \", final_acc)"
      ],
      "execution_count": 46,
      "outputs": [
        {
          "output_type": "stream",
          "text": [
            "Multi-Modality Model :  0.9150197628458498\n"
          ],
          "name": "stdout"
        }
      ]
    },
    {
      "cell_type": "markdown",
      "metadata": {
        "id": "mJwILf5MJtU7"
      },
      "source": [
        "### Confusion Matrix"
      ]
    },
    {
      "cell_type": "code",
      "metadata": {
        "colab": {
          "base_uri": "https://localhost:8080/",
          "height": 609
        },
        "id": "vS3BxSteJsKf",
        "outputId": "47762396-b3fc-48d4-c63a-76ea3b230545"
      },
      "source": [
        "plt.figure(figsize=(12,10))\n",
        "cm = confusion_matrix(y_test, merged_preds)\n",
        "sns.heatmap(cm, annot=True)\n",
        "plt.plot()"
      ],
      "execution_count": 47,
      "outputs": [
        {
          "output_type": "execute_result",
          "data": {
            "text/plain": [
              "[]"
            ]
          },
          "metadata": {
            "tags": []
          },
          "execution_count": 47
        },
        {
          "output_type": "display_data",
          "data": {
            "image/png": "[encoded data removed]",
            "text/plain": [
              "<Figure size 864x720 with 2 Axes>"
            ]
          },
          "metadata": {
            "tags": [],
            "needs_background": "light"
          }
        }
      ]
    },
    {
      "cell_type": "markdown",
      "metadata": {
        "id": "_0m8xy6yJwZm"
      },
      "source": [
        "### Final Scores"
      ]
    },
    {
      "cell_type": "code",
      "metadata": {
        "colab": {
          "base_uri": "https://localhost:8080/"
        },
        "id": "cxtxiaCjJwOI",
        "outputId": "a2e5fc0d-ebdf-4bad-8a78-a9a9383cf966"
      },
      "source": [
        "matrix = classification_report(y_test, merged_preds)\n",
        "print('Final MMFM Report : \\n', matrix)"
      ],
      "execution_count": 48,
      "outputs": [
        {
          "output_type": "stream",
          "text": [
            "Final MMFM Report : \n",
            "               precision    recall  f1-score   support\n",
            "\n",
            "           0       0.97      0.94      0.96       124\n",
            "           1       0.96      0.91      0.94        90\n",
            "           2       0.89      0.87      0.88        45\n",
            "           3       0.90      0.85      0.87       123\n",
            "           4       0.95      0.95      0.95        77\n",
            "           5       0.97      0.98      0.97        93\n",
            "           6       0.95      0.93      0.94       162\n",
            "           7       0.80      0.90      0.85       144\n",
            "           8       0.85      0.89      0.87        65\n",
            "           9       0.93      0.92      0.93        89\n",
            "\n",
            "    accuracy                           0.92      1012\n",
            "   macro avg       0.92      0.91      0.91      1012\n",
            "weighted avg       0.92      0.92      0.92      1012\n",
            "\n"
          ],
          "name": "stdout"
        }
      ]
    },
    {
      "cell_type": "markdown",
      "metadata": {
        "id": "9Lmv1ncYLEgI"
      },
      "source": [
        "### Misclassification Analysis"
      ]
    },
    {
      "cell_type": "code",
      "metadata": {
        "id": "FK_kVivzMHvU"
      },
      "source": [
        "x_labels = ['kitchen', 'livingroom', 'bedroom', 'airport_inside', 'casino', \n",
        "          'warehouse', 'bakery', 'bookstore', 'toystore', 'bathroom']\n",
        "\n",
        "mclass = []\n",
        "for i in range(y_test.shape[0]):\n",
        "    if y_test[i] != merged_preds[i]:\n",
        "        mclass.append(x_labels[y_test[i]])\n",
        "\n"
      ],
      "execution_count": 110,
      "outputs": []
    },
    {
      "cell_type": "code",
      "metadata": {
        "colab": {
          "base_uri": "https://localhost:8080/",
          "height": 459
        },
        "id": "ZggTlKyPOzQq",
        "outputId": "6df6fdc2-fa92-4b8e-e6a6-0de8c6f83dc3"
      },
      "source": [
        "plt.figure(figsize=(12,7))\n",
        "sns.histplot(new_mclass , bins=10, shrink=.8)\n",
        "plt.title('Misclassifications')\n",
        "plt.xlabel('Classes')\n",
        "plt.show()"
      ],
      "execution_count": 114,
      "outputs": [
        {
          "output_type": "display_data",
          "data": {
            "image/png": "[encoded data removed]",
            "text/plain": [
              "<Figure size 864x504 with 1 Axes>"
            ]
          },
          "metadata": {
            "tags": [],
            "needs_background": "light"
          }
        }
      ]
    }
  ]
}